{
 "cells": [
  {
   "cell_type": "markdown",
   "id": "c8e2bef5",
   "metadata": {},
   "source": [
    "### CLT"
   ]
  },
  {
   "cell_type": "code",
   "execution_count": null,
   "id": "bc4531b3",
   "metadata": {},
   "outputs": [],
   "source": [
    "1 salario = 1200\n",
    "2 gasolina = 200\n",
    "3 internet = 200\n",
    "4 alimentos = 1500\n",
    "5 agua = 100\n",
    "6 luz = 300\n",
    "7 condominio = 570\n",
    "8 entreterimento = 1200\n",
    "9\n",
    "10 quanto_sobra = \n"
   ]
  }
 ],
 "metadata": {
  "language_info": {
   "name": "python"
  }
 },
 "nbformat": 4,
 "nbformat_minor": 5
}
