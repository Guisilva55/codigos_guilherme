{
 "cells": [
  {
   "cell_type": "code",
   "execution_count": null,
   "id": "8eb5ae3b",
   "metadata": {},
   "outputs": [],
   "source": [
    "import pyautogui as aut"
   ]
  },
  {
   "cell_type": "code",
   "execution_count": null,
   "id": "ee238bd4",
   "metadata": {},
   "outputs": [],
   "source": [
    "import pyautogui as aut\n",
    "\n",
    "aut.hotkey(\"win\", \"r\")\n",
    "\n",
    "aut.write(\"notepad\", interval=0.4)\n",
    "\n",
    "aut.sleep(1)\n",
    "\n",
    "aut.press(\"Enter\")\n",
    "\n",
    "aut.moveTo(789,326)\n",
    "\n",
    "aut.sleep(1)\n",
    "\n",
    "aut.write(\"ola\" , interval=0.2)"
   ]
  },
  {
   "cell_type": "code",
   "execution_count": null,
   "id": "29b76056",
   "metadata": {},
   "outputs": [],
   "source": [
    "aut.mouseInfo()"
   ]
  },
  {
   "cell_type": "code",
   "execution_count": null,
   "id": "3d555259",
   "metadata": {},
   "outputs": [],
   "source": [
    "aut.moveTo()\n",
    "\n",
    "aut.click()\n",
    "\n",
    "aut.sleep(1)\n",
    "\n",
    "aut.moveTo()\n",
    "\n",
    "aut.write(\"youtube\")\n",
    "aut.sleep(3)\n",
    "\n",
    "aut.moveTo()\n",
    "\n",
    "aut.sleep(1)\n",
    "\n",
    "aut.moveTo()\n"
   ]
  },
  {
   "cell_type": "code",
   "execution_count": null,
   "id": "ffa177f4",
   "metadata": {},
   "outputs": [],
   "source": [
    "import pyautogui as aut\n",
    "\n",
    "aut.hotkey(\"win\", \"r\")\n",
    "\n",
    "aut.write(\"calc.exe\", interval=0.4)\n",
    "\n",
    "aut.sleep(1)\n",
    "\n",
    "aut.press(\"Enter\")"
   ]
  }
 ],
 "metadata": {
  "kernelspec": {
   "display_name": "Python 3",
   "language": "python",
   "name": "python3"
  },
  "language_info": {
   "codemirror_mode": {
    "name": "ipython",
    "version": 3
   },
   "file_extension": ".py",
   "mimetype": "text/x-python",
   "name": "python",
   "nbconvert_exporter": "python",
   "pygments_lexer": "ipython3",
   "version": "3.13.2"
  }
 },
 "nbformat": 4,
 "nbformat_minor": 5
}
